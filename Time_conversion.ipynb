{
  "nbformat": 4,
  "nbformat_minor": 0,
  "metadata": {
    "colab": {
      "provenance": [],
      "authorship_tag": "ABX9TyPGeordK4NdkOq22xIGS+Pc",
      "include_colab_link": true
    },
    "kernelspec": {
      "name": "python3",
      "display_name": "Python 3"
    },
    "language_info": {
      "name": "python"
    }
  },
  "cells": [
    {
      "cell_type": "markdown",
      "metadata": {
        "id": "view-in-github",
        "colab_type": "text"
      },
      "source": [
        "<a href=\"https://colab.research.google.com/github/jaeohshin/Hackerrank-Problem-Solving-Python/blob/main/Time_conversion.ipynb\" target=\"_parent\"><img src=\"https://colab.research.google.com/assets/colab-badge.svg\" alt=\"Open In Colab\"/></a>"
      ]
    },
    {
      "cell_type": "code",
      "execution_count": null,
      "metadata": {
        "id": "ZP0ZMtaNcITV"
      },
      "outputs": [],
      "source": [
        "#!/bin/python3\n",
        "\n",
        "import math\n",
        "import os\n",
        "import random\n",
        "import re\n",
        "import sys\n",
        "\n",
        "#\n",
        "# Complete the 'timeConversion' function below.\n",
        "#\n",
        "# The function is expected to return a STRING.\n",
        "# The function accepts STRING s as parameter.\n",
        "#\n",
        "\n",
        "def timeConversion(s):\n",
        "    # Write your code here\n",
        "    ampm=s[-2:] # AM or PM\n",
        "    hours = s[0:-2]\n",
        "    t = hours.split(':') # list of hour, min, sec.\n",
        "\n",
        "    if ampm == 'PM':\n",
        "        '''\n",
        "        if pm, add 12 to the hour. i.e. 3pm -> 15\n",
        "        to do this, first change the string to int format and add 12 then\n",
        "        change it to str format.\n",
        "        However, the exception is 12 pm is 12- no change.\n",
        "        '''\n",
        "        if t[0] != '12':\n",
        "            t[0] = str(int(t[0])+12) # if pm, add 12 to the hour ...\n",
        "        else:\n",
        "            pass\n",
        "    elif ampm == 'AM' and int (t[0]) == 12:\n",
        "        t[0] = '00'\n",
        "\n",
        "    return ':'.join(t)\n",
        "\n",
        "\n",
        "if __name__ == '__main__':\n",
        "    fptr = open(os.environ['OUTPUT_PATH'], 'w')\n",
        "\n",
        "    s = input()\n",
        "\n",
        "    result = timeConversion(s)\n",
        "\n",
        "    fptr.write(result + '\\n')\n",
        "\n",
        "    fptr.close()\n"
      ]
    }
  ]
}