{
  "nbformat": 4,
  "nbformat_minor": 0,
  "metadata": {
    "colab": {
      "provenance": [],
      "authorship_tag": "ABX9TyNXhQ/xmJlt08h8Ge9OiIa1",
      "include_colab_link": true
    },
    "kernelspec": {
      "name": "python3",
      "display_name": "Python 3"
    },
    "language_info": {
      "name": "python"
    }
  },
  "cells": [
    {
      "cell_type": "markdown",
      "metadata": {
        "id": "view-in-github",
        "colab_type": "text"
      },
      "source": [
        "<a href=\"https://colab.research.google.com/github/jaeohshin/Hackerrank-Problem-Solving-Python/blob/main/Append_and_Delete.ipynb\" target=\"_parent\"><img src=\"https://colab.research.google.com/assets/colab-badge.svg\" alt=\"Open In Colab\"/></a>"
      ]
    },
    {
      "cell_type": "code",
      "execution_count": null,
      "metadata": {
        "id": "sBC4IecG26Sr"
      },
      "outputs": [],
      "source": [
        "#!/bin/python3\n",
        "\n",
        "import math\n",
        "import os\n",
        "import random\n",
        "import re\n",
        "import sys\n",
        "\n",
        "#\n",
        "# Complete the 'appendAndDelete' function below.\n",
        "#\n",
        "# The function is expected to return a STRING.\n",
        "# The function accepts following parameters:\n",
        "#  1. STRING s\n",
        "#  2. STRING t\n",
        "#  3. INTEGER k\n",
        "#\n",
        "\n",
        "def appendAndDelete(s, t, k):\n",
        "    # Write your code here\n",
        "\n",
        "    #first check the number of common characters\n",
        "    n_common = 0\n",
        "\n",
        "    l = less(s, t)\n",
        "    for i in range(l):\n",
        "        if s[i] == t[i] :\n",
        "            n_common += 1\n",
        "        else:\n",
        "            break\n",
        "\n",
        "    diff = len(s)+len(t)-2*n_common - k\n",
        "    if diff <= 0 and diff % 2 ==0 :\n",
        "        return \"Yes\"\n",
        "    elif diff <= 0 and len(s) == n_common:\n",
        "        return \"Yes\"\n",
        "    else:\n",
        "        return \"No\"\n",
        "\n",
        "\n",
        "\n",
        "def less(s, t):\n",
        "    if len(s)<=len(t):\n",
        "        return len(s)\n",
        "    else:\n",
        "        return len(t)\n",
        "\n",
        "\n",
        "if __name__ == '__main__':\n",
        "    fptr = open(os.environ['OUTPUT_PATH'], 'w')\n",
        "\n",
        "    s = input()\n",
        "\n",
        "    t = input()\n",
        "\n",
        "    k = int(input().strip())\n",
        "\n",
        "    result = appendAndDelete(s, t, k)\n",
        "\n",
        "    fptr.write(result + '\\n')\n",
        "\n",
        "    fptr.close()\n"
      ]
    }
  ]
}