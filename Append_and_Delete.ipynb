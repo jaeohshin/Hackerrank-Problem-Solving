{
  "nbformat": 4,
  "nbformat_minor": 0,
  "metadata": {
    "colab": {
      "provenance": [],
      "authorship_tag": "ABX9TyNWyV1vKzA1zxwdx8fRfNFP",
      "include_colab_link": true
    },
    "kernelspec": {
      "name": "python3",
      "display_name": "Python 3"
    },
    "language_info": {
      "name": "python"
    }
  },
  "cells": [
    {
      "cell_type": "markdown",
      "metadata": {
        "id": "view-in-github",
        "colab_type": "text"
      },
      "source": [
        "<a href=\"https://colab.research.google.com/github/jaeohshin/Hackerrank-Problem-Solving-Python/blob/main/Append_and_Delete.ipynb\" target=\"_parent\"><img src=\"https://colab.research.google.com/assets/colab-badge.svg\" alt=\"Open In Colab\"/></a>"
      ]
    },
    {
      "cell_type": "code",
      "execution_count": null,
      "metadata": {
        "id": "FzG0pxnKFBPF"
      },
      "outputs": [],
      "source": [
        "#!/bin/python3\n",
        "\n",
        "import math\n",
        "import os\n",
        "import random\n",
        "import re\n",
        "import sys\n",
        "\n",
        "#\n",
        "# Complete the 'appendAndDelete' function below.\n",
        "#\n",
        "# The function is expected to return a STRING.\n",
        "# The function accepts following parameters:\n",
        "#  1. STRING s\n",
        "#  2. STRING t\n",
        "#  3. INTEGER k\n",
        "#\n",
        "\n",
        "def appendAndDelete(s, t, k):\n",
        "    # Write your code here\n",
        "\n",
        "    '''\n",
        "    1. Count the common characters between two strings, n_common\n",
        "    2. The minimal operations to convert s to t is\n",
        "    k_min = len(s)+len(t)-2*n_common\n",
        "    3. if n_common=0, then the return should be Yes if k >= k_min\n",
        "    4. but if n_common!=0, then the return will be Yes only if k>=k_min and (k-k_min)%2 ==2\n",
        "    '''\n",
        "\n",
        "    n_common = 0\n",
        "\n",
        "    l = less(s, t)\n",
        "\n",
        "    for i in range(l):\n",
        "        if s[i] == t[i] :\n",
        "            n_common += 1\n",
        "        else:\n",
        "            break\n",
        "\n",
        "    k_min = len(s)+len(t)-2*n_common\n",
        "    total_len = len(s)+len(t)\n",
        "\n",
        "    if (k >= k_min and  k%2 == total_len%2 ) or k> total_len:\n",
        "        return \"Yes\"\n",
        "    else:\n",
        "        return \"No\"\n",
        "\n",
        "\n",
        "\n",
        "def less(s, t):\n",
        "    if len(s)<=len(t):\n",
        "        return len(s)\n",
        "    else:\n",
        "        return len(t)\n",
        "\n",
        "\n",
        "if __name__ == '__main__':\n",
        "    fptr = open(os.environ['OUTPUT_PATH'], 'w')\n",
        "\n",
        "    s = input()\n",
        "\n",
        "    t = input()\n",
        "\n",
        "    k = int(input().strip())\n",
        "\n",
        "    result = appendAndDelete(s, t, k)\n",
        "\n",
        "    fptr.write(result + '\\n')\n",
        "\n",
        "    fptr.close()\n"
      ]
    }
  ]
}