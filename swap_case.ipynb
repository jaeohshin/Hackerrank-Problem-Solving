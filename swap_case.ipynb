{
  "nbformat": 4,
  "nbformat_minor": 0,
  "metadata": {
    "colab": {
      "provenance": [],
      "authorship_tag": "ABX9TyMy8kZNkxHEkUzP+78YR5mb",
      "include_colab_link": true
    },
    "kernelspec": {
      "name": "python3",
      "display_name": "Python 3"
    },
    "language_info": {
      "name": "python"
    }
  },
  "cells": [
    {
      "cell_type": "markdown",
      "metadata": {
        "id": "view-in-github",
        "colab_type": "text"
      },
      "source": [
        "<a href=\"https://colab.research.google.com/github/jaeohshin/Hackerrank-Problem-Solving-Python/blob/main/swap_case.ipynb\" target=\"_parent\"><img src=\"https://colab.research.google.com/assets/colab-badge.svg\" alt=\"Open In Colab\"/></a>"
      ]
    },
    {
      "cell_type": "code",
      "execution_count": null,
      "metadata": {
        "id": "xsYwOZ3PWOHg"
      },
      "outputs": [],
      "source": [
        "def swap_case(s):\n",
        "    #since string is immutable, I first change it to list\n",
        "    # and do operations then lastly change it back to string.\n",
        "\n",
        "    s_list = []\n",
        "    for e in s:\n",
        "        if e.isupper() :\n",
        "            s_list.append(e.lower())\n",
        "        else:\n",
        "            s_list.append(e.upper())\n",
        "\n",
        "    return ''.join(s_list)\n",
        "\n",
        "\n",
        "\n",
        "\n",
        "\n",
        "#    s_list = list(s)\n",
        "\n",
        "#    for i in range(len(s)):\n",
        "#        if s_list[i].isupper():\n",
        "#            s_list[i] = s_list[i].lower()\n",
        "#        else:\n",
        "#            s_list[i] = s_list[i].upper()\n",
        "#    return ''.join(s_list)\n",
        "\n",
        "if __name__ == '__main__':\n",
        "    s = input()\n",
        "    result = swap_case(s)\n",
        "    print(result)"
      ]
    }
  ]
}