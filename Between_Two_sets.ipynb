{
  "nbformat": 4,
  "nbformat_minor": 0,
  "metadata": {
    "colab": {
      "provenance": [],
      "authorship_tag": "ABX9TyMi464NuNnr4mZOxguHv7CI",
      "include_colab_link": true
    },
    "kernelspec": {
      "name": "python3",
      "display_name": "Python 3"
    },
    "language_info": {
      "name": "python"
    }
  },
  "cells": [
    {
      "cell_type": "markdown",
      "metadata": {
        "id": "view-in-github",
        "colab_type": "text"
      },
      "source": [
        "<a href=\"https://colab.research.google.com/github/jaeohshin/Hackerrank-Problem-Solving-Python/blob/main/Between_Two_sets.ipynb\" target=\"_parent\"><img src=\"https://colab.research.google.com/assets/colab-badge.svg\" alt=\"Open In Colab\"/></a>"
      ]
    },
    {
      "cell_type": "code",
      "execution_count": null,
      "metadata": {
        "id": "TE1ZR-6CsK7s"
      },
      "outputs": [],
      "source": [
        "#!/bin/python3\n",
        "\n",
        "import math\n",
        "import os\n",
        "import random\n",
        "import re\n",
        "import sys\n",
        "\n",
        "#\n",
        "# Complete the 'getTotalX' function below.\n",
        "#\n",
        "# The function is expected to return an INTEGER.\n",
        "# The function accepts following parameters:\n",
        "#  1. INTEGER_ARRAY a\n",
        "#  2. INTEGER_ARRAY b\n",
        "#\n",
        "\n",
        "def getTotalX(a, b):\n",
        "    # Write your code here\n",
        "    '''\n",
        "    1. From array a, find the ( X)\n",
        "    2. From array b, find the ( Y)\n",
        "    3. find integers n that satisifies Y%(X*n) ==0\n",
        "    '''\n",
        "    # sort the numbers in the arrays\n",
        "    a.sort()\n",
        "    b.sort()\n",
        "\n",
        "    #find the\n",
        "    len_n = len(a)\n",
        "    x = a[len_n-1]\n",
        "    for i in range(len_n-1):\n",
        "        if x % a[i] !=0:\n",
        "            x *= a[i]\n",
        "\n",
        "    '''\n",
        "    check if b % (n*x) ==0\n",
        "    '''\n",
        "    n_max = b[0] // x\n",
        "    flag = 1\n",
        "\n",
        "    y = x\n",
        "    for n in range(n_max):\n",
        "        for i in range(m):\n",
        "            if b[i] % y ==0:\n",
        "                pass\n",
        "            else:\n",
        "                flag = 0\n",
        "                break\n",
        "        if flag ==0:\n",
        "           break\n",
        "        y = x*(n+1)\n",
        "\n",
        "    return n+1\n",
        "\n",
        "\n",
        "\n",
        "\n",
        "\n",
        "\n",
        "if __name__ == '__main__':\n",
        "    fptr = open(os.environ['OUTPUT_PATH'], 'w')\n",
        "\n",
        "    first_multiple_input = input().rstrip().split()\n",
        "\n",
        "    n = int(first_multiple_input[0])\n",
        "\n",
        "    m = int(first_multiple_input[1])\n",
        "\n",
        "    arr = list(map(int, input().rstrip().split()))\n",
        "\n",
        "    brr = list(map(int, input().rstrip().split()))\n",
        "\n",
        "    total = getTotalX(arr, brr)\n",
        "\n",
        "    fptr.write(str(total) + '\\n')\n",
        "\n",
        "    fptr.close()\n"
      ]
    }
  ]
}