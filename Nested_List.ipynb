{
  "nbformat": 4,
  "nbformat_minor": 0,
  "metadata": {
    "colab": {
      "provenance": [],
      "authorship_tag": "ABX9TyPKBJDQjXYnwhLvd4a7Di+y",
      "include_colab_link": true
    },
    "kernelspec": {
      "name": "python3",
      "display_name": "Python 3"
    },
    "language_info": {
      "name": "python"
    }
  },
  "cells": [
    {
      "cell_type": "markdown",
      "metadata": {
        "id": "view-in-github",
        "colab_type": "text"
      },
      "source": [
        "<a href=\"https://colab.research.google.com/github/jaeohshin/Hackerrank-Problem-Solving-Python/blob/main/Nested_List.ipynb\" target=\"_parent\"><img src=\"https://colab.research.google.com/assets/colab-badge.svg\" alt=\"Open In Colab\"/></a>"
      ]
    },
    {
      "cell_type": "code",
      "execution_count": null,
      "metadata": {
        "id": "Hwlrx9jkzSRm"
      },
      "outputs": [],
      "source": [
        "#I think the below code is straight forward but not most elegant.\n",
        "# maybe see other approaches\n",
        "# such as https://www.youtube.com/watch?v=Cgl0c4mupAg\n",
        "\n",
        "if __name__ == '__main__':\n",
        "\n",
        "    records = []\n",
        "    n = int(input())\n",
        "    for _ in range(n):\n",
        "        name = input()\n",
        "        score = float(input())\n",
        "        records.append([name, score])\n",
        "    #just made a nested list of n students name and their scores\n",
        "\n",
        "    records.sort(key = lambda x: (x[1], x[0]))\n",
        "    ## sorted by the score then by name\n",
        "\n",
        "\n",
        "    ## Then how to take the names for the second lowerst scores?\n",
        "    #second lowers score\n",
        "    #second_score = records[1][1]\n",
        "    # this is not true, if there are two stduents whose scores are the same.\n",
        "    # the lowest score\n",
        "    #lowest_score = records[0][1]\n",
        "    lowest_score = second_lowest = records[0][1]\n",
        "\n",
        "    flag = 0\n",
        "    i =0\n",
        "\n",
        "    while i< n:\n",
        "        if records[i][1] > lowest_score:\n",
        "            second_lowest = records[i][1]\n",
        "            flag +=1\n",
        "        if flag ==1:\n",
        "            print(records[i][0])\n",
        "        if flag > 1 :\n",
        "            break\n",
        "        i+=1\n",
        "\n",
        "\n",
        "\n",
        "\n",
        "    # names=[]\n",
        "\n",
        "\n",
        "    # for i in range(n):\n",
        "    #     if records[i][1] > lowest_score:\n",
        "    #         second_score = records[i][1]\n",
        "    #         break\n",
        "\n",
        "\n",
        "    # for i in range(n):\n",
        "    #     if records[i][1] == second_score:\n",
        "    #         names.append(records[i][0])\n",
        "\n",
        "    # names.sort()\n",
        "\n",
        "    # print(*names, sep = \"\\n\")"
      ]
    }
  ]
}