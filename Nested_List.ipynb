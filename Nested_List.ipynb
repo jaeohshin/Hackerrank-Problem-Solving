{
  "nbformat": 4,
  "nbformat_minor": 0,
  "metadata": {
    "colab": {
      "provenance": [],
      "authorship_tag": "ABX9TyPJ77hhs3vYlI3akpztqf2e",
      "include_colab_link": true
    },
    "kernelspec": {
      "name": "python3",
      "display_name": "Python 3"
    },
    "language_info": {
      "name": "python"
    }
  },
  "cells": [
    {
      "cell_type": "markdown",
      "metadata": {
        "id": "view-in-github",
        "colab_type": "text"
      },
      "source": [
        "<a href=\"https://colab.research.google.com/github/jaeohshin/Hackerrank-Problem-Solving-Python/blob/main/Nested_List.ipynb\" target=\"_parent\"><img src=\"https://colab.research.google.com/assets/colab-badge.svg\" alt=\"Open In Colab\"/></a>"
      ]
    },
    {
      "cell_type": "code",
      "execution_count": null,
      "metadata": {
        "id": "Hwlrx9jkzSRm"
      },
      "outputs": [],
      "source": [
        "if __name__ == '__main__':\n",
        "\n",
        "    records = []\n",
        "    n = int(input())\n",
        "    for _ in range(n):\n",
        "        name = input()\n",
        "        score = float(input())\n",
        "        records.append([name, score])\n",
        "    #just made a nested list of n students name and their scores\n",
        "\n",
        "    records.sort(key = lambda x: x[1])\n",
        "    ## sorted by the score\n",
        "\n",
        "\n",
        "    ## Then how to take the names for the second lowerst scores?\n",
        "    #second lowers score\n",
        "    #second_score = records[1][1]\n",
        "    # this is not true, if there are two stduents whose scores are the same.\n",
        "    # the lowest score\n",
        "    lowest_score = records[0][1]\n",
        "    names=[]\n",
        "\n",
        "    for i in range(n):\n",
        "        if records[i][1] > lowest_score:\n",
        "            second_score = records[i][1]\n",
        "            break\n",
        "\n",
        "\n",
        "    for i in range(n):\n",
        "        if records[i][1] == second_score:\n",
        "            names.append(records[i][0])\n",
        "\n",
        "    names.sort()\n",
        "\n",
        "    print(*names, sep = \"\\n\")"
      ]
    }
  ]
}