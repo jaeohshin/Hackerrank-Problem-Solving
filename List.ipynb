{
  "nbformat": 4,
  "nbformat_minor": 0,
  "metadata": {
    "colab": {
      "provenance": [],
      "authorship_tag": "ABX9TyNNU8qib3KjLXT3bK6WASee",
      "include_colab_link": true
    },
    "kernelspec": {
      "name": "python3",
      "display_name": "Python 3"
    },
    "language_info": {
      "name": "python"
    }
  },
  "cells": [
    {
      "cell_type": "markdown",
      "metadata": {
        "id": "view-in-github",
        "colab_type": "text"
      },
      "source": [
        "<a href=\"https://colab.research.google.com/github/jaeohshin/Hackerrank-Problem-Solving-Python/blob/main/List.ipynb\" target=\"_parent\"><img src=\"https://colab.research.google.com/assets/colab-badge.svg\" alt=\"Open In Colab\"/></a>"
      ]
    },
    {
      "cell_type": "code",
      "execution_count": null,
      "metadata": {
        "id": "UMHOQcczMdCG"
      },
      "outputs": [],
      "source": [
        "if __name__ == '__main__':\n",
        "    n = int(input())\n",
        "    list = []\n",
        "\n",
        "    for i in range(n):\n",
        "\n",
        "        user_input = input()\n",
        "        command = user_input.split()[0]\n",
        "        count = user_input.count(\" \")\n",
        "        if count ==0:\n",
        "            command = user_input.split()[0]\n",
        "        elif count ==1:\n",
        "            command, num1 = user_input.split()[0], int(user_input.split()[1])\n",
        "        elif count ==2:\n",
        "            command, num1, num2 = user_input.split()[0], int(user_input.split()[1]), int(user_input.split()[2])\n",
        "\n",
        "\n",
        "        if (command == \"insert\"):\n",
        "            list.insert(num1, num2)\n",
        "        elif (command == \"print\"):\n",
        "            print(list)\n",
        "        elif (command == \"remove\"):\n",
        "            list.remove(num1)\n",
        "        elif (command == \"append\"):\n",
        "            list.append(num1)\n",
        "        elif (command == \"sort\"):\n",
        "            list.sort()\n",
        "        elif (command == \"pop\"):\n",
        "            list.pop()\n",
        "        elif (command == \"reverse\"):\n",
        "            list.reverse()"
      ]
    }
  ]
}