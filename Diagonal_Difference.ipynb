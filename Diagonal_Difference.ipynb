{
  "nbformat": 4,
  "nbformat_minor": 0,
  "metadata": {
    "colab": {
      "provenance": [],
      "authorship_tag": "ABX9TyOWcixv35cwYh3xBt49trFy",
      "include_colab_link": true
    },
    "kernelspec": {
      "name": "python3",
      "display_name": "Python 3"
    },
    "language_info": {
      "name": "python"
    }
  },
  "cells": [
    {
      "cell_type": "markdown",
      "metadata": {
        "id": "view-in-github",
        "colab_type": "text"
      },
      "source": [
        "<a href=\"https://colab.research.google.com/github/jaeohshin/Hackerrank-Problem-Solving-Python/blob/main/Diagonal_Difference.ipynb\" target=\"_parent\"><img src=\"https://colab.research.google.com/assets/colab-badge.svg\" alt=\"Open In Colab\"/></a>"
      ]
    },
    {
      "cell_type": "code",
      "execution_count": null,
      "metadata": {
        "id": "wUMWIPY37Ucv"
      },
      "outputs": [],
      "source": [
        "#!/bin/python3\n",
        "\n",
        "import math\n",
        "import os\n",
        "import random\n",
        "import re\n",
        "import sys\n",
        "\n",
        "#\n",
        "# Complete the 'diagonalDifference' function below.\n",
        "#\n",
        "# The function is expected to return an INTEGER.\n",
        "# The function accepts 2D_INTEGER_ARRAY arr as parameter.\n",
        "#\n",
        "\n",
        "def diagonalDifference(arr):\n",
        "    # Write your code here\n",
        "    rl, lr = 0, 0\n",
        "    for i in range(n):\n",
        "        lr += arr[i][i]\n",
        "        rl += arr[i][n-1-i]\n",
        "    return abs(lr-rl)\n",
        "\n",
        "if __name__ == '__main__':\n",
        "    fptr = open(os.environ['OUTPUT_PATH'], 'w')\n",
        "\n",
        "    n = int(input().strip())\n",
        "\n",
        "    arr = []\n",
        "\n",
        "    for _ in range(n):\n",
        "        arr.append(list(map(int, input().rstrip().split())))\n",
        "\n",
        "    result = diagonalDifference(arr)\n",
        "\n",
        "    fptr.write(str(result) + '\\n')\n",
        "\n",
        "    fptr.close()\n"
      ]
    }
  ]
}