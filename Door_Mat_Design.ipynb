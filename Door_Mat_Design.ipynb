{
  "nbformat": 4,
  "nbformat_minor": 0,
  "metadata": {
    "colab": {
      "provenance": [],
      "authorship_tag": "ABX9TyNV8UQzfQYs5agLV+cqOVJy",
      "include_colab_link": true
    },
    "kernelspec": {
      "name": "python3",
      "display_name": "Python 3"
    },
    "language_info": {
      "name": "python"
    }
  },
  "cells": [
    {
      "cell_type": "markdown",
      "metadata": {
        "id": "view-in-github",
        "colab_type": "text"
      },
      "source": [
        "<a href=\"https://colab.research.google.com/github/jaeohshin/Hackerrank-Problem-Solving-Python/blob/main/Door_Mat_Design.ipynb\" target=\"_parent\"><img src=\"https://colab.research.google.com/assets/colab-badge.svg\" alt=\"Open In Colab\"/></a>"
      ]
    },
    {
      "cell_type": "code",
      "execution_count": null,
      "metadata": {
        "id": "7Qd4iJJ3Q240"
      },
      "outputs": [],
      "source": [
        "# Enter your code here. Read input from STDIN. Print output to STDOUT\n",
        "\n",
        "\n",
        "\n",
        "def carpet(n, m):\n",
        "    pic =[]\n",
        "    for i in range(1, int((n-1)/2)+1, 1):\n",
        "        x = int((m-6*i+3)/2)\n",
        "        pic.append('-'*x)\n",
        "        pic.append('.|.'*(i*2-1))\n",
        "        pic.append('-'*x)\n",
        "        pic.append('\\n')\n",
        "        #upper part.\n",
        "\n",
        "    pic.append('-'*int((m-7)/2))\n",
        "    pic.append('WELCOME')\n",
        "    pic.append('-'*int((m-7)/2))\n",
        "    pic.append('\\n')\n",
        "    # middle\n",
        "\n",
        "    for i in range(int((n+1)/2)+1, n+1, 1):\n",
        "        i = (n+1) - i\n",
        "        x = int((m-6*i+3)/2)\n",
        "        pic.append('-'*x)\n",
        "        pic.append('.|.'*(2*i-1))\n",
        "        pic.append('-'*x)\n",
        "        pic.append('\\n')\n",
        "        #lower part.\n",
        "    return ''.join(pic)\n",
        "\n",
        "\n",
        "\n",
        "\n",
        "if __name__ == \"__main__\":\n",
        "    n, m = map(int, input().split())\n",
        "\n",
        "    picture = carpet(n, m)\n",
        "    print(picture)"
      ]
    }
  ]
}