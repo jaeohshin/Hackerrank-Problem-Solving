{
  "nbformat": 4,
  "nbformat_minor": 0,
  "metadata": {
    "colab": {
      "provenance": [],
      "authorship_tag": "ABX9TyM3GTVI1lQ+090UWLnla3UF",
      "include_colab_link": true
    },
    "kernelspec": {
      "name": "python3",
      "display_name": "Python 3"
    },
    "language_info": {
      "name": "python"
    }
  },
  "cells": [
    {
      "cell_type": "markdown",
      "metadata": {
        "id": "view-in-github",
        "colab_type": "text"
      },
      "source": [
        "<a href=\"https://colab.research.google.com/github/jaeohshin/Hackerrank-Problem-Solving-Python/blob/main/Apple_and_Orange.ipynb\" target=\"_parent\"><img src=\"https://colab.research.google.com/assets/colab-badge.svg\" alt=\"Open In Colab\"/></a>"
      ]
    },
    {
      "cell_type": "code",
      "execution_count": null,
      "metadata": {
        "id": "jQ7KGTaYdqEh"
      },
      "outputs": [],
      "source": [
        "#!/bin/python3\n",
        "\n",
        "import math\n",
        "import os\n",
        "import random\n",
        "import re\n",
        "import sys\n",
        "\n",
        "#\n",
        "# Complete the 'countApplesAndOranges' function below.\n",
        "#\n",
        "# The function accepts following parameters:\n",
        "#  1. INTEGER s\n",
        "#  2. INTEGER t\n",
        "#  3. INTEGER a\n",
        "#  4. INTEGER b\n",
        "#  5. INTEGER_ARRAY apples\n",
        "#  6. INTEGER_ARRAY oranges\n",
        "#\n",
        "\n",
        "def countApplesAndOranges(s, t, a, b, apples, oranges):\n",
        "    # Write your code here\n",
        "    ''' The house is in between s and t\n",
        "     Apple is at a\n",
        "     Orage is at b\n",
        "     m apples fall in 'apples' away from a\n",
        "     n oranges fall in 'oranges' away from b\n",
        "     count the number of apples and orages fall into the house.\n",
        "    '''\n",
        "\n",
        "\n",
        "    # position of apples/ oranges\n",
        "    # I used lambda method\n",
        "    apples_list = map(lambda x:x+a, apples)\n",
        "    oranges_list = [x+b for x in oranges]\n",
        "\n",
        "    #check whether those are in the house\n",
        "    app, ora = 0, 0\n",
        "    for apple in apples_list:\n",
        "        if apple >= s and apple <= t:\n",
        "            app+=1\n",
        "    for orange in oranges_list:\n",
        "        if orange >= s and orange <= t:\n",
        "            ora+=1\n",
        "    print(app)\n",
        "    print(ora)\n",
        "\n",
        "\n",
        "if __name__ == '__main__':\n",
        "    first_multiple_input = input().rstrip().split()\n",
        "\n",
        "    s = int(first_multiple_input[0])\n",
        "\n",
        "    t = int(first_multiple_input[1])\n",
        "\n",
        "    second_multiple_input = input().rstrip().split()\n",
        "\n",
        "    a = int(second_multiple_input[0])\n",
        "\n",
        "    b = int(second_multiple_input[1])\n",
        "\n",
        "    third_multiple_input = input().rstrip().split()\n",
        "\n",
        "    m = int(third_multiple_input[0])\n",
        "\n",
        "    n = int(third_multiple_input[1])\n",
        "\n",
        "    apples = list(map(int, input().rstrip().split()))\n",
        "\n",
        "    oranges = list(map(int, input().rstrip().split()))\n",
        "\n",
        "    countApplesAndOranges(s, t, a, b, apples, oranges)\n"
      ]
    }
  ]
}