{
  "nbformat": 4,
  "nbformat_minor": 0,
  "metadata": {
    "colab": {
      "provenance": [],
      "authorship_tag": "ABX9TyORxxRy0RCMf7lIEjCR1ioX",
      "include_colab_link": true
    },
    "kernelspec": {
      "name": "python3",
      "display_name": "Python 3"
    },
    "language_info": {
      "name": "python"
    }
  },
  "cells": [
    {
      "cell_type": "markdown",
      "metadata": {
        "id": "view-in-github",
        "colab_type": "text"
      },
      "source": [
        "<a href=\"https://colab.research.google.com/github/jaeohshin/Hackerrank-Problem-Solving-Python/blob/main/String_Validators.ipynb\" target=\"_parent\"><img src=\"https://colab.research.google.com/assets/colab-badge.svg\" alt=\"Open In Colab\"/></a>"
      ]
    },
    {
      "cell_type": "code",
      "execution_count": null,
      "metadata": {
        "id": "TZDrIHvs5dai"
      },
      "outputs": [],
      "source": [
        "if __name__ == '__main__':\n",
        "    st = input()\n",
        "\n",
        "b1, b2, b3, b4, b5 = False, False, False, False, False\n",
        "\n",
        "for s in st:\n",
        "    '''check whether s has any alphanumeric character\n",
        "    this is False only when none the charater is alphabetical character\n",
        "    otherwise True.\n",
        "    '''\n",
        "\n",
        "    #checking none of the character is non-alphabetical\n",
        "    b1 = b1 or s.isalnum()\n",
        "\n",
        "    #check whether s is alphabetical character\n",
        "    b2 = b2 or s.isalpha()\n",
        "\n",
        "    #check whether s is digits\n",
        "    b3 = b3 or s.isdigit()\n",
        "\n",
        "    #check s is lowercase\n",
        "    b4 = b4 or s.islower()\n",
        "\n",
        "    #check s is uppercase\n",
        "    b5 = b5 or s.isupper()\n",
        "\n",
        "print(b1)\n",
        "print(b2)\n",
        "\n",
        "print(b3)\n",
        "\n",
        "print(b4)\n",
        "\n",
        "print(b5)\n"
      ]
    }
  ]
}