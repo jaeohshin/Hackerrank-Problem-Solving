{
  "nbformat": 4,
  "nbformat_minor": 0,
  "metadata": {
    "colab": {
      "provenance": [],
      "authorship_tag": "ABX9TyNLsxQ2DjCzlGI2pkXt6nsc",
      "include_colab_link": true
    },
    "kernelspec": {
      "name": "python3",
      "display_name": "Python 3"
    },
    "language_info": {
      "name": "python"
    }
  },
  "cells": [
    {
      "cell_type": "markdown",
      "metadata": {
        "id": "view-in-github",
        "colab_type": "text"
      },
      "source": [
        "<a href=\"https://colab.research.google.com/github/jaeohshin/Hackerrank-Problem-Solving-Python/blob/main/Compare_Triplets.ipynb\" target=\"_parent\"><img src=\"https://colab.research.google.com/assets/colab-badge.svg\" alt=\"Open In Colab\"/></a>"
      ]
    },
    {
      "cell_type": "code",
      "execution_count": null,
      "metadata": {
        "id": "SroIOClfpzkS"
      },
      "outputs": [],
      "source": [
        "#!/bin/python3\n",
        "\n",
        "import math\n",
        "import os\n",
        "import random\n",
        "import re\n",
        "import sys\n",
        "\n",
        "#\n",
        "# Complete the 'compareTriplets' function below.\n",
        "#\n",
        "# The function is expected to return an INTEGER_ARRAY.\n",
        "# The function accepts following parameters:\n",
        "#  1. INTEGER_ARRAY a\n",
        "#  2. INTEGER_ARRAY b\n",
        "#\n",
        "\n",
        "def compareTriplets(a, b):\n",
        "    # Write your code here\n",
        "    ascore, bscore=0, 0 # a score and b score.\n",
        "\n",
        "    for i in range(len(a)):\n",
        "        if a[i] > b[i]:\n",
        "            ascore+=1\n",
        "        elif a[i] < b[i]:\n",
        "            bscore+=1\n",
        "        else:\n",
        "            pass\n",
        "\n",
        "    scores = (ascore, bscore)\n",
        "    return scores\n",
        "\n",
        "\n",
        "if __name__ == '__main__':\n",
        "    fptr = open(os.environ['OUTPUT_PATH'], 'w')\n",
        "\n",
        "    a = list(map(int, input().rstrip().split()))\n",
        "\n",
        "    b = list(map(int, input().rstrip().split()))\n",
        "\n",
        "    result = compareTriplets(a, b)\n",
        "\n",
        "    fptr.write(' '.join(map(str, result)))\n",
        "    fptr.write('\\n')\n",
        "\n",
        "    fptr.close()\n"
      ]
    }
  ]
}