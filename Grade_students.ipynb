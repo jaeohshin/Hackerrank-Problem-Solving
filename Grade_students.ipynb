{
  "nbformat": 4,
  "nbformat_minor": 0,
  "metadata": {
    "colab": {
      "provenance": [],
      "authorship_tag": "ABX9TyMi4APCfP72mw6O8vYjnTCA",
      "include_colab_link": true
    },
    "kernelspec": {
      "name": "python3",
      "display_name": "Python 3"
    },
    "language_info": {
      "name": "python"
    }
  },
  "cells": [
    {
      "cell_type": "markdown",
      "metadata": {
        "id": "view-in-github",
        "colab_type": "text"
      },
      "source": [
        "<a href=\"https://colab.research.google.com/github/jaeohshin/Hackerrank-Problem-Solving-Python/blob/main/Grade_students.ipynb\" target=\"_parent\"><img src=\"https://colab.research.google.com/assets/colab-badge.svg\" alt=\"Open In Colab\"/></a>"
      ]
    },
    {
      "cell_type": "code",
      "execution_count": null,
      "metadata": {
        "id": "zshoa7eiyOM7"
      },
      "outputs": [],
      "source": [
        "#!/bin/python3\n",
        "\n",
        "import math\n",
        "import os\n",
        "import random\n",
        "import re\n",
        "import sys\n",
        "\n",
        "#\n",
        "# Complete the 'gradingStudents' function below.\n",
        "#\n",
        "# The function is expected to return an INTEGER_ARRAY.\n",
        "# The function accepts INTEGER_ARRAY grades as parameter.\n",
        "#\n",
        "\n",
        "def gradingStudents(grades):\n",
        "    # Write your code here\n",
        "    for i in range(len(grades)):\n",
        "        if grades[i] % 5 ==3 and grades[i] >=38:\n",
        "            grades[i] +=2\n",
        "        elif grades[i] % 5 == 4 and grades[i] >=38:\n",
        "            grades[i] +=1\n",
        "        else:\n",
        "            pass\n",
        "    return grades\n",
        "if __name__ == '__main__':\n",
        "    fptr = open(os.environ['OUTPUT_PATH'], 'w')\n",
        "\n",
        "    grades_count = int(input().strip())\n",
        "\n",
        "    grades = []\n",
        "\n",
        "    for _ in range(grades_count):\n",
        "        grades_item = int(input().strip())\n",
        "        grades.append(grades_item)\n",
        "\n",
        "    result = gradingStudents(grades)\n",
        "\n",
        "    fptr.write('\\n'.join(map(str, result)))\n",
        "    fptr.write('\\n')\n",
        "\n",
        "    fptr.close()\n"
      ]
    }
  ]
}